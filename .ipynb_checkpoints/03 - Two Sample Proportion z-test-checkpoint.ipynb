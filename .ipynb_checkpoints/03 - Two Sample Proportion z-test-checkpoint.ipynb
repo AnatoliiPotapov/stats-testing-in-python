{
 "metadata": {
  "name": "",
  "signature": "sha256:2724b1cc795d32fb60379d71413662fb29ce5c04883010e8ceeaef0cc83bccd1"
 },
 "nbformat": 3,
 "nbformat_minor": 0,
 "worksheets": [
  {
   "cells": [
    {
     "cell_type": "markdown",
     "metadata": {},
     "source": [
      "We want as many people as possible to sign-up with Facebook accounts, so that we can connect them with friends and also get more information about those users.\n",
      "\n",
      "Therefore, we want to test two Sign-up with Facebook forms and see which one will have higher number of people actually connected with Facebook"
     ]
    },
    {
     "cell_type": "markdown",
     "metadata": {},
     "source": [
      "### <i>Two different mockups goes here</i>"
     ]
    },
    {
     "cell_type": "code",
     "collapsed": false,
     "input": [
      "import numpy as np\n",
      "import pandas as pd\n",
      "import seaborn as sns\n",
      "from pylab import *\n",
      "# from IPython.display import Image\n",
      "import matplotlib.ticker as mtick\n",
      "\n",
      "import scipy.stats as stats\n",
      "import statsmodels.stats.weightstats as wstats\n",
      "from collections import OrderedDict\n",
      "\n",
      "from __future__ import print_function\n",
      "from __future__ import division"
     ],
     "language": "python",
     "metadata": {},
     "outputs": [],
     "prompt_number": 90
    },
    {
     "cell_type": "code",
     "collapsed": false,
     "input": [
      "\n",
      "control_installs = 2501\n",
      "control_connected = 1104\n",
      "test_installs = 2141\n",
      "test_connected = 1076\n",
      "\n",
      "# print(' A: installs = {} \\t connected = {} \\n B: installs = {} \\t connected = {}'\n",
      "#       .format(control_installs, control_connected, test_installs, test_connected))\n",
      "print(' {}: installs = {} \\t connected = {} \\t prop = {}'\n",
      "      .format('A', control_installs, control_connected, control_connected/control_installs))\n",
      "\n",
      "print(' {}: installs = {} \\t connected = {} \\t prop = {}'\n",
      "      .format('B', test_installs, test_connected, test_connected/test_installs))\n",
      "\n",
      "\n",
      "fig, ax = plt.subplots(figsize=(8,4))\n",
      "\n",
      "x = [0,1]\n",
      "y = [control_connected/control_installs, test_connected/test_installs]\n",
      "ax.bar(x, y, align='center', width=.8)\n",
      "ax.set_xticks(x)\n",
      "ax.set_xticklabels(['Control', 'Test'])\n",
      "xlim(-.5,1.5)\n",
      "ylim(0, .69)\n",
      "for xx, yy in zip(x,y):\n",
      "    ax.text(xx, yy*.7, '%0.2f%%'%(100*yy),ha='center', va='bottom', fontdict={'size':15,'weight':'bold','color':(0.9,.9,.9)})\n",
      "# ax.yaxis.set_major_formatter(mtick.FormatStrFormatter('%.0f%%'))\n",
      "# def perc(x, pos=0):\n",
      "#     return '%0.0f%%'%(100*x)\n",
      "ax.yaxis.set_major_formatter(FuncFormatter(lambda x, pos=0: '%0.0f%%'%(100.0*x)))\n",
      "title('Is this statistically significant?', fontdict={'size':16})\n",
      "fig.savefig('03.01 two samples.png', bbox_inches='tight', pad_inches=0.2 ,dpi=200)"
     ],
     "language": "python",
     "metadata": {},
     "outputs": [
      {
       "output_type": "stream",
       "stream": "stdout",
       "text": [
        " A: installs = 2501 \t connected = 1104 \t prop = 0.441423430628\n",
        " B: installs = 2141 \t connected = 1076 \t prop = 0.502568893041\n"
       ]
      },
      {
       "metadata": {},
       "output_type": "display_data",
       "png": "[encoded data removed]",
       "text": [
        "<matplotlib.figure.Figure at 0x12ae5a650>"
       ]
      }
     ],
     "prompt_number": 151
    },
    {
     "cell_type": "markdown",
     "metadata": {},
     "source": [
      "## $z = \\frac{\\hat{p_1}-\\hat{p_2}}{\\sqrt{\\hat{p} (1-\\hat{p}) (\\frac{1}{n_1} + \\frac{1}{n_2})}} $\n",
      "where\n",
      "\n",
      "### $\\hat{p_1} = \\frac{x_1}{n_1}, \\hat{p_2} = \\frac{x_2}{n_2} $\n",
      "### $\\hat{p} = \\frac{x_1 + x_2}{n_1 + n_2}$\n",
      "$x_1, x_2$ - number of successes in group 1 and 2\n",
      "\n",
      "$n_1, n_2$ - number of observations in group 1 and 2"
     ]
    },
    {
     "cell_type": "code",
     "collapsed": false,
     "input": [
      "def ztest_proportion_two_samples(x1, n1, x2, n2, one_sided=False):\n",
      "    p1 = x1/n1\n",
      "    p2 = x2/n2    \n",
      "\n",
      "    p = (x1+x2)/(n1+n2)\n",
      "    se = p*(1-p)*(1/n1+1/n2)\n",
      "    se = sqrt(se)\n",
      "    \n",
      "    z = (p1-p2)/se\n",
      "    p = 1-stats.norm.cdf(abs(z))\n",
      "    p *= 2-one_sided # if not one_sided: p *= 2\n",
      "    return z, p\n",
      "\n",
      "z,p = ztest_proportion_two_samples(control_connected, control_installs, test_connected, test_installs, one_sided=False)\n",
      "print(' z-stat = {z} \\n p-value = {p}'.format(z=z,p=p))"
     ],
     "language": "python",
     "metadata": {},
     "outputs": [
      {
       "output_type": "stream",
       "stream": "stdout",
       "text": [
        " z-stat = -4.16111492042 \n",
        " p-value = 3.16697658287e-05\n"
       ]
      }
     ],
     "prompt_number": 152
    },
    {
     "cell_type": "code",
     "collapsed": false,
     "input": [
      "z,p = ztest_proportion_two_samples(820, 1000, 800, 1000, one_sided=False)\n",
      "print(' z-stat = {z} \\n p-value = {p}'.format(z=z,p=p))"
     ],
     "language": "python",
     "metadata": {},
     "outputs": [
      {
       "output_type": "stream",
       "stream": "stdout",
       "text": [
        " z-stat = 1.13997594676 \n",
        " p-value = 0.254296322217\n"
       ]
      }
     ],
     "prompt_number": 155
    },
    {
     "cell_type": "code",
     "collapsed": false,
     "input": [
      "from statsmodels.stats.proportion import proportions_ztest\n",
      "count = np.array([control_connected,test_connected])\n",
      "nobs = np.array([control_installs, test_installs])\n",
      "z,p = proportions_ztest(count, nobs, value=0, alternative='two-sided')\n",
      "print(' z-stat = {z} \\n p-value = {p}'.format(z=z,p=p))"
     ],
     "language": "python",
     "metadata": {},
     "outputs": [
      {
       "output_type": "stream",
       "stream": "stdout",
       "text": [
        " z-stat = -4.16111492042 \n",
        " p-value = 3.16697658288e-05\n"
       ]
      }
     ],
     "prompt_number": 154
    },
    {
     "cell_type": "markdown",
     "metadata": {},
     "source": [
      "### So what is the uplift?\n",
      "\n",
      "## $CI = (\\hat{p_1} - \\hat{p_2}) \u00b1 z_{critical} \\cdot SE $ \n",
      "\n",
      "$SE = \\sqrt{ \\frac{\\hat{p_1}(1-\\hat{p_1})}{n_1} + \\frac{\\hat{p_2}(1-\\hat{p_2})}{n_2} }  $\n",
      "\n",
      "where\n",
      "\n",
      "$\\hat{p_1}, \\hat{p_2}$ - proportion in group 1 and 2\n",
      "\n",
      "\n",
      "$n_1, n_2$ - number of observations in group 1 and 2\n",
      "\n",
      "\n",
      "\n",
      "\n",
      "\n",
      "\n"
     ]
    },
    {
     "cell_type": "code",
     "collapsed": false,
     "input": [
      "def compute_standard_error_prop_two_samples(x1, n1, x2, n2, alpha=0.05):\n",
      "    p1 = x1/n1\n",
      "    p2 = x2/n2    \n",
      "    se = p1*(1-p1)/n1 + p2*(1-p2)/n2\n",
      "    return sqrt(se)\n",
      "    \n",
      "def zconf_interval_two_samples(x1, n1, x2, n2, alpha=0.05):\n",
      "    p1 = x1/n1\n",
      "    p2 = x2/n2    \n",
      "    se = compute_standard_error_prop_two_samples(x1, n1, x2, n2)\n",
      "    z_critical = stats.norm.ppf(1-0.5*alpha)\n",
      "    return p2-p1-z_critical*se, p2-p1+z_critical*se\n",
      "\n",
      "ci_low,ci_upp = zconf_interval_two_samples(control_connected, control_installs, \n",
      "                                           test_connected, test_installs)\n",
      "print(' 95% Confidence Interval = ( {0:.2f}% , {1:.2f}% )'\n",
      "      .format(100*ci_low, 100*ci_upp))"
     ],
     "language": "python",
     "metadata": {},
     "outputs": [
      {
       "output_type": "stream",
       "stream": "stdout",
       "text": [
        " 95% Confidence Interval = ( 3.24% , 8.99% )\n"
       ]
      }
     ],
     "prompt_number": 158
    },
    {
     "cell_type": "markdown",
     "metadata": {},
     "source": [
      "### Let's check how accurate this method is in practise."
     ]
    },
    {
     "cell_type": "code",
     "collapsed": false,
     "input": [
      "# Calibrating on Null-Hypothesis\n",
      "p_a = 0.3\n",
      "p_a_b_uplift = 0.0\n",
      "size_a = 1000\n",
      "size_b = 1000\n",
      "sim_size = 100000\n",
      "res = []\n",
      "for a,b, in zip(np.random.binomial(size_a,p=p_a,size=sim_size), np.random.binomial(size_b,p=(p_a+p_a_b_uplift),size=sim_size)):\n",
      "    z,p = ztest_proportion_two_samples(a, size_a, b, size_b)\n",
      "    res.append(p)\n",
      "res = np.asarray(res)    \n",
      "\n",
      "(res<0.05).sum()/sim_size"
     ],
     "language": "python",
     "metadata": {},
     "outputs": [
      {
       "metadata": {},
       "output_type": "pyout",
       "prompt_number": 95,
       "text": [
        "0.049450000000000001"
       ]
      }
     ],
     "prompt_number": 95
    },
    {
     "cell_type": "markdown",
     "metadata": {},
     "source": [
      "We rejected Null-hypothesis only in 5% of \"experiments\", which is what we wanted exactly"
     ]
    },
    {
     "cell_type": "code",
     "collapsed": false,
     "input": [
      "# Calibrating on Null-Hypothesis\n",
      "p_a = 0.3\n",
      "p_a_b_uplift = 0.1\n",
      "size_a = 1000\n",
      "size_b = 1000\n",
      "sim_size = 100000\n",
      "res = []\n",
      "for a,b, in zip(np.random.binomial(size_a,p=p_a,size=sim_size), np.random.binomial(size_b,p=(p_a+p_a_b_uplift),size=sim_size)):\n",
      "    l,u = zconf_interval_two_samples(a, size_a, b, size_b)\n",
      "    res.append((l,u))\n",
      "res = np.asarray(res)    \n",
      "res=res.transpose()\n",
      "\n",
      "\n",
      "((res[0]<p_a_b_uplift) &(res[1]>p_a_b_uplift)).sum()/sim_size"
     ],
     "language": "python",
     "metadata": {},
     "outputs": [
      {
       "metadata": {},
       "output_type": "pyout",
       "prompt_number": 195,
       "text": [
        "0.95042000000000004"
       ]
      }
     ],
     "prompt_number": 195
    },
    {
     "cell_type": "markdown",
     "metadata": {},
     "source": [
      "Real uplift value falls into CI 95%. Just as we expected."
     ]
    },
    {
     "cell_type": "code",
     "collapsed": false,
     "input": [
      "# Calibrating on Null-Hypothesis\n",
      "p_a = 0.02\n",
      "p_a_b_uplift = 0.005\n",
      "size_a = 1000\n",
      "size_b = 2000\n",
      "sim_size = 100000\n",
      "res = []\n",
      "\n",
      "for a,b, in zip(np.random.binomial(size_a,p=p_a,size=sim_size), np.random.binomial(size_b,p=(p_a+p_a_b_uplift),size=sim_size)):\n",
      "    l,u = zconf_interval_two_samples(a, size_a, b, size_b)\n",
      "    res.append((l,u))\n",
      "res = np.asarray(res)    \n",
      "res=res.transpose()\n",
      "\n",
      "\n",
      "((res[0]<p_a_b_uplift) &(res[1]>p_a_b_uplift)).sum()/sim_size"
     ],
     "language": "python",
     "metadata": {},
     "outputs": [
      {
       "metadata": {},
       "output_type": "pyout",
       "prompt_number": 196,
       "text": [
        "0.94833999999999996"
       ]
      }
     ],
     "prompt_number": 196
    },
    {
     "cell_type": "markdown",
     "metadata": {},
     "source": [
      "CI is too narrow for small values of $p$. For practical purposes it does not matter."
     ]
    },
    {
     "cell_type": "markdown",
     "metadata": {},
     "source": [
      "### Let's see if we can detect difference correctly"
     ]
    },
    {
     "cell_type": "code",
     "collapsed": false,
     "input": [
      "# Calibrating on Null-Hypothesis\n",
      "p_a = 0.3\n",
      "\n",
      "size_a = 1000\n",
      "size_b = 1000\n",
      "sim_size = 1000\n",
      "# p_a_b_uplift = 0.1\n",
      "meta_result = []\n",
      "for p_a_b_uplift in np.linspace(0.001, 0.1, 10):\n",
      "\n",
      "    res = []\n",
      "    for a,b, in zip(np.random.binomial(size_a,p=p_a,size=sim_size), np.random.binomial(size_b,p=(p_a+p_a_b_uplift),size=sim_size)):\n",
      "        z,p = ztest_proportion_two_samples(a, size_a, b, size_b)\n",
      "        res.append(p)\n",
      "    res = np.asarray(res)    \n",
      "\n",
      "    meta_result.append( (p_a_b_uplift, ((res<0.05).sum())/sim_size ) )\n",
      "meta_result = np.asarray(meta_result).transpose()\n",
      "\n",
      "# Plotting this\n",
      "\n",
      "fig, ax = plt.subplots(figsize=(8,4))\n",
      "\n",
      "ax.plot(meta_result[0]/p_a, meta_result[1])\n",
      "ax.set_title('Can we detect an uplift?')\n",
      "ax.set_ylabel('% of rejected $H_0$')\n",
      "ax.yaxis.set_major_formatter(FuncFormatter(lambda x, pos=0: '%0.0f%%'%(100.0*x)))\n",
      "ax.set_xlabel('Uplift percentage')\n",
      "ax.xaxis.set_major_formatter(FuncFormatter(lambda x, pos=0: '%0.0f%%'%(100.0*x)))"
     ],
     "language": "python",
     "metadata": {},
     "outputs": [
      {
       "metadata": {},
       "output_type": "display_data",
       "png": "[encoded data removed]",
       "text": [
        "<matplotlib.figure.Figure at 0x10f3989d0>"
       ]
      }
     ],
     "prompt_number": 229
    },
    {
     "cell_type": "code",
     "collapsed": false,
     "input": [
      "# Calibrating on Null-Hypothesis\n",
      "p_a = 0.3\n",
      "\n",
      "size_a = 1000\n",
      "size_b = 1000\n",
      "sim_size = 1000\n",
      "# p_a_b_uplift = 0.1\n",
      "meta_result = []\n",
      "for p_a_b_uplift in np.linspace(0.001, 0.1, 10):\n",
      "\n",
      "    res = []\n",
      "    for a,b, in zip(np.random.binomial(size_a,p=p_a,size=sim_size), np.random.binomial(size_b,p=(p_a+p_a_b_uplift),size=sim_size)):\n",
      "        l,u = zconf_interval_two_samples(a, size_a, b, size_b)\n",
      "        res.append((u-l)/2)\n",
      "    res = np.asarray(res)    \n",
      "\n",
      "    meta_result.append( (p_a_b_uplift, res.mean()) )\n",
      "meta_result = np.asarray(meta_result).transpose()\n",
      "\n",
      "# Plotting this\n",
      "\n",
      "fig, ax = plt.subplots(figsize=(8,4))\n",
      "\n",
      "ax.plot(meta_result[0]/p_a, meta_result[1])\n",
      "# ax.set_title('Can we detect an uplift?')\n",
      "# ax.set_ylabel('% of rejected $H_0$')\n",
      "# ax.yaxis.set_major_formatter(FuncFormatter(lambda x, pos=0: '%0.0f%%'%(100.0*x)))\n",
      "# ax.set_xlabel('Uplift percentage')\n",
      "# ax.xaxis.set_major_formatter(FuncFormatter(lambda x, pos=0: '%0.0f%%'%(100.0*x)))"
     ],
     "language": "python",
     "metadata": {},
     "outputs": [
      {
       "metadata": {},
       "output_type": "pyout",
       "prompt_number": 233,
       "text": [
        "[<matplotlib.lines.Line2D at 0x10068a790>]"
       ]
      },
      {
       "metadata": {},
       "output_type": "display_data",
       "png": "[encoded data removed]",
       "text": [
        "<matplotlib.figure.Figure at 0x10068a910>"
       ]
      }
     ],
     "prompt_number": 233
    },
    {
     "cell_type": "markdown",
     "metadata": {},
     "source": [
      "### What's with all that Baesian stuff?"
     ]
    },
    {
     "cell_type": "code",
     "collapsed": false,
     "input": [
      "import pymc as pm"
     ],
     "language": "python",
     "metadata": {},
     "outputs": [],
     "prompt_number": 96
    },
    {
     "cell_type": "code",
     "collapsed": false,
     "input": [
      "# control_installs = 2501\n",
      "# control_connected = 1104\n",
      "# test_installs = 2141\n",
      "# test_connected = 1076\n",
      "\n",
      "control   = [1]*control_connected + [0]*(control_installs - control_connected)\n",
      "treatment = [1]*test_connected + [0]*(test_installs - test_connected)\n",
      "control = np.asarray(control)\n",
      "treatment = np.asarray(treatment)\n",
      "\n",
      "start = {}\n",
      "\n",
      "start['p_C'] = (control).sum()/len(control)\n",
      "start['p_T'] = (treatment).sum()/len(treatment)    \n",
      "start['p_C']    \n",
      "\n"
     ],
     "language": "python",
     "metadata": {},
     "outputs": [
      {
       "metadata": {},
       "output_type": "pyout",
       "prompt_number": 97,
       "text": [
        "0.44142343062774891"
       ]
      }
     ],
     "prompt_number": 97
    },
    {
     "cell_type": "code",
     "collapsed": false,
     "input": [
      "with pm.Model() as model:\n",
      "    p_C = pm.Uniform('p_C', 0.00001, .9)\n",
      "    p_T = pm.Uniform('p_T', 0.00001, .9)\n",
      "    # Record the difference between P1 and P2\n",
      "    uplift = pm.Deterministic('uplift',p_T - p_C)\n",
      "\n",
      "    # Set of observations, in this case we have two observation datasets\n",
      "    obs_C = pm.Bernoulli(\"obs_C\", p_C, observed=control)\n",
      "    obs_T = pm.Bernoulli(\"obs_T\", p_T, observed=treatment)\n",
      "\n",
      "    # Inference\n",
      "    step = pm.NUTS(scaling=start) # Start from a good starting point\n",
      "    trace = pm.sample(10000, step, start=start, progressbar=True)\n",
      "\n",
      "pass"
     ],
     "language": "python",
     "metadata": {},
     "outputs": [
      {
       "output_type": "stream",
       "stream": "stdout",
       "text": [
        "\r",
        " [--                6%                  ] 649 of 10000 complete in 0.5 sec"
       ]
      },
      {
       "output_type": "stream",
       "stream": "stdout",
       "text": [
        "\r",
        " [-----            14%                  ] 1446 of 10000 complete in 1.0 sec"
       ]
      },
      {
       "output_type": "stream",
       "stream": "stdout",
       "text": [
        "\r",
        " [--------         21%                  ] 2180 of 10000 complete in 1.5 sec"
       ]
      },
      {
       "output_type": "stream",
       "stream": "stdout",
       "text": [
        "\r",
        " [----------       28%                  ] 2887 of 10000 complete in 2.0 sec"
       ]
      },
      {
       "output_type": "stream",
       "stream": "stdout",
       "text": [
        "\r",
        " [-------------    36%                  ] 3663 of 10000 complete in 2.5 sec"
       ]
      },
      {
       "output_type": "stream",
       "stream": "stdout",
       "text": [
        "\r",
        " [---------------- 44%                  ] 4427 of 10000 complete in 3.0 sec"
       ]
      },
      {
       "output_type": "stream",
       "stream": "stdout",
       "text": [
        "\r",
        " [-----------------51%                  ] 5184 of 10000 complete in 3.5 sec"
       ]
      },
      {
       "output_type": "stream",
       "stream": "stdout",
       "text": [
        "\r",
        " [-----------------59%--                ] 5927 of 10000 complete in 4.0 sec"
       ]
      },
      {
       "output_type": "stream",
       "stream": "stdout",
       "text": [
        "\r",
        " [-----------------66%-----             ] 6676 of 10000 complete in 4.5 sec"
       ]
      },
      {
       "output_type": "stream",
       "stream": "stdout",
       "text": [
        "\r",
        " [-----------------74%--------          ] 7481 of 10000 complete in 5.0 sec"
       ]
      },
      {
       "output_type": "stream",
       "stream": "stdout",
       "text": [
        "\r",
        " [-----------------81%----------        ] 8138 of 10000 complete in 5.5 sec"
       ]
      },
      {
       "output_type": "stream",
       "stream": "stdout",
       "text": [
        "\r",
        " [-----------------89%-------------     ] 8929 of 10000 complete in 6.0 sec"
       ]
      },
      {
       "output_type": "stream",
       "stream": "stdout",
       "text": [
        "\r",
        " [-----------------96%----------------  ] 9660 of 10000 complete in 6.5 sec"
       ]
      },
      {
       "output_type": "stream",
       "stream": "stdout",
       "text": [
        "\r",
        " [-----------------100%-----------------] 10000 of 10000 complete in 6.7 sec"
       ]
      }
     ],
     "prompt_number": 98
    },
    {
     "cell_type": "code",
     "collapsed": false,
     "input": [
      "pm.traceplot(trace[1000:],['uplift']);"
     ],
     "language": "python",
     "metadata": {},
     "outputs": [
      {
       "metadata": {},
       "output_type": "display_data",
       "png": "[encoded data removed]",
       "text": [
        "<matplotlib.figure.Figure at 0x112bc9c90>"
       ]
      }
     ],
     "prompt_number": 32
    },
    {
     "cell_type": "code",
     "collapsed": false,
     "input": [
      "pm.stats.hpd(trace[1000:]['uplift'], alpha=0.05)"
     ],
     "language": "python",
     "metadata": {},
     "outputs": [
      {
       "metadata": {},
       "output_type": "pyout",
       "prompt_number": 33,
       "text": [
        "array([ 0.03424684,  0.09018258])"
       ]
      }
     ],
     "prompt_number": 33
    },
    {
     "cell_type": "code",
     "collapsed": false,
     "input": [
      "pm.stats.hpd(trace['uplift'], alpha=0.05)"
     ],
     "language": "python",
     "metadata": {},
     "outputs": [
      {
       "metadata": {},
       "output_type": "pyout",
       "prompt_number": 34,
       "text": [
        "array([ 0.03423493,  0.0903044 ])"
       ]
      }
     ],
     "prompt_number": 34
    },
    {
     "cell_type": "code",
     "collapsed": false,
     "input": [
      "print( trace['p_C'].mean() )\n",
      "print( trace['p_T'].mean() )\n",
      "print( trace['uplift'].mean() )"
     ],
     "language": "python",
     "metadata": {},
     "outputs": [
      {
       "output_type": "stream",
       "stream": "stdout",
       "text": [
        "0.441538697411\n",
        "0.502527287521\n",
        "0.0609885901106\n"
       ]
      }
     ],
     "prompt_number": 38
    },
    {
     "cell_type": "code",
     "collapsed": false,
     "input": [
      "ci_low,ci_upp = zconf_interval_two_samples(control_connected, control_installs, test_connected, test_installs)\n",
      "print(' 95% Confidence Interval = ( {0:.2f}% , {1:.2f}% )'.format(100*ci_low, 100*ci_upp))"
     ],
     "language": "python",
     "metadata": {},
     "outputs": [
      {
       "output_type": "stream",
       "stream": "stdout",
       "text": [
        " 95% Confidence Interval = ( 3.24% , 8.99% )\n"
       ]
      }
     ],
     "prompt_number": 25
    },
    {
     "cell_type": "markdown",
     "metadata": {},
     "source": [
      "### Why HDI is not symmetric?"
     ]
    },
    {
     "cell_type": "code",
     "collapsed": false,
     "input": [
      "\n",
      "control   = [1]*control_connected + [0]*(control_installs-control_connected)\n",
      "treatment = [1]*test_connected + [0]*(test_installs-test_connected)\n",
      "control = np.asarray(control)\n",
      "treatment = np.asarray(treatment)\n",
      "\n",
      "start = {}\n",
      "\n",
      "start['p_C'] = (control).sum()/len(control)\n",
      "start['p_T'] = (treatment).sum()/len(treatment)    \n",
      "start['p_C']    \n",
      "\n",
      "\n",
      "\n",
      "with pm.Model() as model:\n",
      "    p_C = pm.Uniform('p_C', 0.00001, .9)\n",
      "    p_T = pm.Uniform('p_T', 0.00001, .9)\n",
      "\n",
      "    uplift = pm.Deterministic('uplift',p_T - p_C)\n",
      "\n",
      "    # Set of observations, in this case we have two observation datasets.\n",
      "    obs_C = pm.Bernoulli(\"obs_C\", p_C, observed=control)\n",
      "    obs_T = pm.Bernoulli(\"obs_T\", p_T, observed=treatment)\n",
      "\n",
      "\n",
      "    # Inference!\n",
      "    step = pm.NUTS(scaling=start) # Find good starting point\n",
      "    trace = pm.sample(10000, step, start=start, progressbar=True) # draw posterior samples using slice sampling  \n",
      "\n",
      "pass"
     ],
     "language": "python",
     "metadata": {},
     "outputs": [
      {
       "output_type": "stream",
       "stream": "stdout",
       "text": [
        "\r",
        " [--                6%                  ] 665 of 10000 complete in 0.5 sec"
       ]
      },
      {
       "output_type": "stream",
       "stream": "stdout",
       "text": [
        "\r",
        " [-----            13%                  ] 1371 of 10000 complete in 1.0 sec"
       ]
      },
      {
       "output_type": "stream",
       "stream": "stdout",
       "text": [
        "\r",
        " [-------          21%                  ] 2100 of 10000 complete in 1.5 sec"
       ]
      },
      {
       "output_type": "stream",
       "stream": "stdout",
       "text": [
        "\r",
        " [----------       28%                  ] 2811 of 10000 complete in 2.0 sec"
       ]
      },
      {
       "output_type": "stream",
       "stream": "stdout",
       "text": [
        "\r",
        " [-------------    36%                  ] 3617 of 10000 complete in 2.5 sec"
       ]
      },
      {
       "output_type": "stream",
       "stream": "stdout",
       "text": [
        "\r",
        " [---------------- 42%                  ] 4294 of 10000 complete in 3.0 sec"
       ]
      },
      {
       "output_type": "stream",
       "stream": "stdout",
       "text": [
        "\r",
        " [-----------------50%                  ] 5013 of 10000 complete in 3.5 sec"
       ]
      },
      {
       "output_type": "stream",
       "stream": "stdout",
       "text": [
        "\r",
        " [-----------------57%-                 ] 5737 of 10000 complete in 4.0 sec"
       ]
      },
      {
       "output_type": "stream",
       "stream": "stdout",
       "text": [
        "\r",
        " [-----------------64%----              ] 6447 of 10000 complete in 4.5 sec"
       ]
      },
      {
       "output_type": "stream",
       "stream": "stdout",
       "text": [
        "\r",
        " [-----------------71%-------           ] 7180 of 10000 complete in 5.0 sec"
       ]
      },
      {
       "output_type": "stream",
       "stream": "stdout",
       "text": [
        "\r",
        " [-----------------79%----------        ] 7953 of 10000 complete in 5.5 sec"
       ]
      },
      {
       "output_type": "stream",
       "stream": "stdout",
       "text": [
        "\r",
        " [-----------------86%-------------     ] 8694 of 10000 complete in 6.0 sec"
       ]
      },
      {
       "output_type": "stream",
       "stream": "stdout",
       "text": [
        "\r",
        " [-----------------94%---------------   ] 9413 of 10000 complete in 6.5 sec"
       ]
      },
      {
       "output_type": "stream",
       "stream": "stdout",
       "text": [
        "\r",
        " [-----------------100%-----------------] 10000 of 10000 complete in 6.9 sec"
       ]
      }
     ],
     "prompt_number": 111
    },
    {
     "cell_type": "code",
     "collapsed": false,
     "input": [
      "print( trace['uplift'].mean() )\n",
      "pm.stats.hpd(trace[2000:]['uplift'], alpha=0.05)"
     ],
     "language": "python",
     "metadata": {},
     "outputs": [
      {
       "output_type": "stream",
       "stream": "stdout",
       "text": [
        "0.0612322380687\n"
       ]
      },
      {
       "metadata": {},
       "output_type": "pyout",
       "prompt_number": 117,
       "text": [
        "array([ 0.0327397 ,  0.08912491])"
       ]
      }
     ],
     "prompt_number": 117
    },
    {
     "cell_type": "code",
     "collapsed": false,
     "input": [
      "(trace['uplift']>0.05).sum()/len(trace['uplift'])"
     ],
     "language": "python",
     "metadata": {},
     "outputs": [
      {
       "metadata": {},
       "output_type": "pyout",
       "prompt_number": 145,
       "text": [
        "0.77880000000000005"
       ]
      }
     ],
     "prompt_number": 145
    },
    {
     "cell_type": "code",
     "collapsed": false,
     "input": [
      "ci_low,ci_upp = zconf_interval_two_samples(control.sum(), control.shape[0], treatment.sum(), treatment.shape[0], alpha=0.05)\n",
      "print(' 95% Confidence Interval = ( {0:.2f}% , {1:.2f}% )'.format(100*ci_low, 100*ci_upp))"
     ],
     "language": "python",
     "metadata": {},
     "outputs": [
      {
       "output_type": "stream",
       "stream": "stdout",
       "text": [
        " 95% Confidence Interval = ( 3.24% , 8.99% )\n"
       ]
      }
     ],
     "prompt_number": 121
    },
    {
     "cell_type": "code",
     "collapsed": false,
     "input": [
      "import matplotlib.mlab as mlab\n",
      "\n",
      "mean = test_connected/test_installs - control_connected/control_installs\n",
      "sigma = compute_standard_error_prop_two_samples(test_connected, test_installs, control_connected, control_installs)\n",
      "\n",
      "x = np.linspace(0,.12,100)\n",
      "plt.plot(x,mlab.normpdf(x,mean,sigma), label='Frequentists: $ N(\\hat{p_1}-\\hat{p_2}, SE)$')\n",
      "hist(trace['uplift'], bins=100, normed=True, color='0.8', label='Baesian Credible Interval');\n",
      "legend()\n",
      "suptitle ('Baesian Credible Interval vs. Frequentist CI', fontsize=18)\n",
      "title(' Binomial proportions, uniform priors' )"
     ],
     "language": "python",
     "metadata": {},
     "outputs": [
      {
       "metadata": {},
       "output_type": "pyout",
       "prompt_number": 148,
       "text": [
        "<matplotlib.text.Text at 0x129fa7210>"
       ]
      },
      {
       "metadata": {},
       "output_type": "display_data",
       "png": "[encoded data removed]",
       "text": [
        "<matplotlib.figure.Figure at 0x11bb99d90>"
       ]
      }
     ],
     "prompt_number": 148
    },
    {
     "cell_type": "code",
     "collapsed": false,
     "input": [
      "import matplotlib.mlab as mlab\n",
      "\n",
      "mean = test_connected/test_installs - control_connected/control_installs\n",
      "sigma = compute_standard_error_prop_two_samples(test_connected, test_installs, control_connected, control_installs)\n",
      "\n",
      "fig, ax = plt.subplots(figsize=(10,5))\n",
      "x = np.linspace(0,.12,100)\n",
      "plt.plot(x,mlab.normpdf(x,mean,sigma), label='Frequentists: $ N(\\hat{p_1}-\\hat{p_2}, SE)$')\n",
      "hist(trace['uplift'], bins=100, normed=True, color='0.8', label='Baesian Credible Interval');\n",
      "legend()\n",
      "suptitle ('Baesian Credible Interval vs. Frequentist CI', fontsize=18)\n",
      "title(' Binomial proportions, uniform priors' )\n",
      "fig.savefig('03.03 Bayesian CrI vs CI.png', dpi=200)"
     ],
     "language": "python",
     "metadata": {},
     "outputs": [
      {
       "metadata": {},
       "output_type": "display_data",
       "png": "[encoded data removed]",
       "text": [
        "<matplotlib.figure.Figure at 0x11fd6fe90>"
       ]
      }
     ],
     "prompt_number": 162
    },
    {
     "cell_type": "code",
     "collapsed": false,
     "input": [],
     "language": "python",
     "metadata": {},
     "outputs": []
    }
   ],
   "metadata": {}
  }
 ]
}